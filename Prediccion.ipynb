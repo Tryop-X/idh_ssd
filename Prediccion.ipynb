{
 "cells": [
  {
   "cell_type": "code",
   "execution_count": 13,
   "id": "a43e8bb3",
   "metadata": {},
   "outputs": [],
   "source": [
    "import tensorflow as tf\n",
    "import pandas as pd\n",
    "\n",
    "#((None, 4, 1) vs (None,)).\n",
    "#expected shape=(None, 1, 4), found shape=(None, 4)\n",
    "\n",
    "\n"
   ]
  },
  {
   "cell_type": "code",
   "execution_count": 14,
   "id": "809f5b67",
   "metadata": {},
   "outputs": [
    {
     "data": {
      "text/html": [
       "<div>\n",
       "<style scoped>\n",
       "    .dataframe tbody tr th:only-of-type {\n",
       "        vertical-align: middle;\n",
       "    }\n",
       "\n",
       "    .dataframe tbody tr th {\n",
       "        vertical-align: top;\n",
       "    }\n",
       "\n",
       "    .dataframe thead th {\n",
       "        text-align: right;\n",
       "    }\n",
       "</style>\n",
       "<table border=\"1\" class=\"dataframe\">\n",
       "  <thead>\n",
       "    <tr style=\"text-align: right;\">\n",
       "      <th></th>\n",
       "      <th>porcentajeGastoEducacion</th>\n",
       "      <th>porcentajeGastoSalud</th>\n",
       "      <th>indicadorPobreza</th>\n",
       "      <th>indicadorDemografico</th>\n",
       "      <th>indicadorDesarrolloHumano</th>\n",
       "    </tr>\n",
       "  </thead>\n",
       "  <tbody>\n",
       "    <tr>\n",
       "      <th>12</th>\n",
       "      <td>4.08791</td>\n",
       "      <td>8.5</td>\n",
       "      <td>72.9</td>\n",
       "      <td>17.2</td>\n",
       "      <td>0.500</td>\n",
       "    </tr>\n",
       "    <tr>\n",
       "      <th>52</th>\n",
       "      <td>3.15719</td>\n",
       "      <td>6.0</td>\n",
       "      <td>1.6</td>\n",
       "      <td>32.2</td>\n",
       "      <td>0.745</td>\n",
       "    </tr>\n",
       "    <tr>\n",
       "      <th>88</th>\n",
       "      <td>3.34060</td>\n",
       "      <td>6.0</td>\n",
       "      <td>4.7</td>\n",
       "      <td>29.1</td>\n",
       "      <td>0.706</td>\n",
       "    </tr>\n",
       "    <tr>\n",
       "      <th>124</th>\n",
       "      <td>3.27428</td>\n",
       "      <td>4.0</td>\n",
       "      <td>9.4</td>\n",
       "      <td>27.0</td>\n",
       "      <td>0.671</td>\n",
       "    </tr>\n",
       "    <tr>\n",
       "      <th>292</th>\n",
       "      <td>2.28146</td>\n",
       "      <td>4.5</td>\n",
       "      <td>50.9</td>\n",
       "      <td>16.4</td>\n",
       "      <td>0.517</td>\n",
       "    </tr>\n",
       "    <tr>\n",
       "      <th>...</th>\n",
       "      <td>...</td>\n",
       "      <td>...</td>\n",
       "      <td>...</td>\n",
       "      <td>...</td>\n",
       "      <td>...</td>\n",
       "    </tr>\n",
       "    <tr>\n",
       "      <th>31527</th>\n",
       "      <td>2.88026</td>\n",
       "      <td>8.4</td>\n",
       "      <td>0.4</td>\n",
       "      <td>33.9</td>\n",
       "      <td>0.782</td>\n",
       "    </tr>\n",
       "    <tr>\n",
       "      <th>31647</th>\n",
       "      <td>2.80096</td>\n",
       "      <td>11.2</td>\n",
       "      <td>1.4</td>\n",
       "      <td>32.7</td>\n",
       "      <td>0.758</td>\n",
       "    </tr>\n",
       "    <tr>\n",
       "      <th>31710</th>\n",
       "      <td>2.86987</td>\n",
       "      <td>13.0</td>\n",
       "      <td>0.6</td>\n",
       "      <td>31.6</td>\n",
       "      <td>0.743</td>\n",
       "    </tr>\n",
       "    <tr>\n",
       "      <th>31892</th>\n",
       "      <td>3.66906</td>\n",
       "      <td>5.7</td>\n",
       "      <td>10.6</td>\n",
       "      <td>25.8</td>\n",
       "      <td>0.757</td>\n",
       "    </tr>\n",
       "    <tr>\n",
       "      <th>32023</th>\n",
       "      <td>9.24471</td>\n",
       "      <td>4.3</td>\n",
       "      <td>30.4</td>\n",
       "      <td>16.6</td>\n",
       "      <td>0.483</td>\n",
       "    </tr>\n",
       "  </tbody>\n",
       "</table>\n",
       "<p>231 rows × 5 columns</p>\n",
       "</div>"
      ],
      "text/plain": [
       "       porcentajeGastoEducacion  porcentajeGastoSalud  indicadorPobreza  \\\n",
       "12                      4.08791                   8.5              72.9   \n",
       "52                      3.15719                   6.0               1.6   \n",
       "88                      3.34060                   6.0               4.7   \n",
       "124                     3.27428                   4.0               9.4   \n",
       "292                     2.28146                   4.5              50.9   \n",
       "...                         ...                   ...               ...   \n",
       "31527                   2.88026                   8.4               0.4   \n",
       "31647                   2.80096                  11.2               1.4   \n",
       "31710                   2.86987                  13.0               0.6   \n",
       "31892                   3.66906                   5.7              10.6   \n",
       "32023                   9.24471                   4.3              30.4   \n",
       "\n",
       "       indicadorDemografico  indicadorDesarrolloHumano  \n",
       "12                     17.2                      0.500  \n",
       "52                     32.2                      0.745  \n",
       "88                     29.1                      0.706  \n",
       "124                    27.0                      0.671  \n",
       "292                    16.4                      0.517  \n",
       "...                     ...                        ...  \n",
       "31527                  33.9                      0.782  \n",
       "31647                  32.7                      0.758  \n",
       "31710                  31.6                      0.743  \n",
       "31892                  25.8                      0.757  \n",
       "32023                  16.6                      0.483  \n",
       "\n",
       "[231 rows x 5 columns]"
      ]
     },
     "execution_count": 14,
     "metadata": {},
     "output_type": "execute_result"
    }
   ],
   "source": [
    "tabla = pd.read_csv('./tabla_prediccion.csv', index_col=0)\n",
    "\n",
    "tabla"
   ]
  },
  {
   "cell_type": "code",
   "execution_count": 15,
   "id": "080c4098",
   "metadata": {},
   "outputs": [],
   "source": [
    "import numpy as np\n",
    "\n",
    "X = np.asarray(tabla[[\"porcentajeGastoEducacion\", \"porcentajeGastoSalud\", \"indicadorPobreza\", \"indicadorDemografico\"]])\n",
    "\n",
    "Y = np.asarray(tabla[\"indicadorDesarrolloHumano\"])"
   ]
  },
  {
   "cell_type": "code",
   "execution_count": 16,
   "id": "bac60464",
   "metadata": {},
   "outputs": [
    {
     "data": {
      "text/plain": [
       "(231,)"
      ]
     },
     "execution_count": 16,
     "metadata": {},
     "output_type": "execute_result"
    }
   ],
   "source": [
    "Y.shape"
   ]
  },
  {
   "cell_type": "code",
   "execution_count": 17,
   "id": "846c8425",
   "metadata": {},
   "outputs": [
    {
     "data": {
      "text/plain": [
       "(231, 4)"
      ]
     },
     "execution_count": 17,
     "metadata": {},
     "output_type": "execute_result"
    }
   ],
   "source": [
    "X.shape"
   ]
  },
  {
   "cell_type": "code",
   "execution_count": 18,
   "id": "288c3bd2",
   "metadata": {},
   "outputs": [],
   "source": [
    "modelo_denso = tf.keras.models.Sequential([\n",
    "    \n",
    "    tf.keras.layers.Dense(700, input_shape=[4]),    \n",
    "    tf.keras.layers.Dense(700,activation='relu'),\n",
    "    tf.keras.layers.Dense(700),\n",
    "    tf.keras.layers.Dense(1)    \n",
    "    \n",
    "])"
   ]
  },
  {
   "cell_type": "code",
   "execution_count": 19,
   "id": "34c48808",
   "metadata": {},
   "outputs": [],
   "source": [
    "modelo_denso.compile(\n",
    "    optimizer = tf.keras.optimizers.Adam(0.01),\n",
    "    loss = 'mean_squared_error',\n",
    ")"
   ]
  },
  {
   "cell_type": "code",
   "execution_count": 20,
   "id": "8bc87b9f",
   "metadata": {},
   "outputs": [
    {
     "name": "stdout",
     "output_type": "stream",
     "text": [
      "Entrenando...\n",
      "modelo entrenado\n"
     ]
    }
   ],
   "source": [
    "tensorBoard_denso = tf.keras.callbacks.TensorBoard(log_dir = 'logs/cas')\n",
    "\n",
    "print(\"Entrenando...\")\n",
    "\n",
    "historial = modelo_denso.fit(X, Y, \n",
    "                 validation_split = 0.15,\n",
    "                 epochs = 50,\n",
    "                 callbacks = [tensorBoard_denso],\n",
    "                 verbose = False\n",
    "                )\n",
    "\n",
    "print(\"modelo entrenado\")\n"
   ]
  },
  {
   "cell_type": "code",
   "execution_count": 21,
   "id": "dbc68c1d",
   "metadata": {},
   "outputs": [
    {
     "data": {
      "text/plain": [
       "[<matplotlib.lines.Line2D at 0x7f86746820d0>]"
      ]
     },
     "execution_count": 21,
     "metadata": {},
     "output_type": "execute_result"
    },
    {
     "data": {
      "image/png": "[encoded data removed]",
      "text/plain": [
       "<Figure size 432x288 with 1 Axes>"
      ]
     },
     "metadata": {
      "needs_background": "light"
     },
     "output_type": "display_data"
    }
   ],
   "source": [
    "import matplotlib.pyplot as plt\n",
    "\n",
    "plt.xlabel(\"# Epoca\")\n",
    "plt.ylabel(\"Magnitud de pérdida\")\n",
    "plt.plot(historial.history[\"loss\"])\n"
   ]
  },
  {
   "cell_type": "code",
   "execution_count": 22,
   "id": "dfdc5772",
   "metadata": {},
   "outputs": [
    {
     "name": "stdout",
     "output_type": "stream",
     "text": [
      "The tensorboard extension is already loaded. To reload it, use:\n",
      "  %reload_ext tensorboard\n"
     ]
    },
    {
     "data": {
      "text/plain": [
       "Reusing TensorBoard on port 6006 (pid 26668), started 2:49:04 ago. (Use '!kill 26668' to kill it.)"
      ]
     },
     "metadata": {},
     "output_type": "display_data"
    },
    {
     "data": {
      "text/html": [
       "\n",
       "      <iframe id=\"tensorboard-frame-6b62043f49b3d3d0\" width=\"100%\" height=\"800\" frameborder=\"0\">\n",
       "      </iframe>\n",
       "      <script>\n",
       "        (function() {\n",
       "          const frame = document.getElementById(\"tensorboard-frame-6b62043f49b3d3d0\");\n",
       "          const url = new URL(\"/\", window.location);\n",
       "          const port = 6006;\n",
       "          if (port) {\n",
       "            url.port = port;\n",
       "          }\n",
       "          frame.src = url;\n",
       "        })();\n",
       "      </script>\n",
       "    "
      ],
      "text/plain": [
       "<IPython.core.display.HTML object>"
      ]
     },
     "metadata": {},
     "output_type": "display_data"
    }
   ],
   "source": [
    "%load_ext tensorboard\n",
    "%tensorboard --logdir logs"
   ]
  },
  {
   "cell_type": "code",
   "execution_count": 23,
   "id": "241815a3",
   "metadata": {},
   "outputs": [
    {
     "name": "stdout",
     "output_type": "stream",
     "text": [
      "1/1 [==============================] - 0s 53ms/step\n"
     ]
    },
    {
     "data": {
      "text/plain": [
       "0.7223564"
      ]
     },
     "execution_count": 23,
     "metadata": {},
     "output_type": "execute_result"
    }
   ],
   "source": [
    "\n",
    "asd = [[4.9, 8.7, 5.3, 37]]\n",
    "a = modelo_denso.predict(asd)\n",
    "a[0][0]\n",
    "\n"
   ]
  },
  {
   "cell_type": "code",
   "execution_count": 24,
   "id": "cf0ef0e7",
   "metadata": {},
   "outputs": [],
   "source": [
    "modelo_denso.save('prediccionidh.h5')\n"
   ]
  },
  {
   "cell_type": "code",
   "execution_count": 25,
   "id": "355d08e7",
   "metadata": {},
   "outputs": [
    {
     "name": "stdout",
     "output_type": "stream",
     "text": [
      "2022-07-19 21:26:17.325314: W tensorflow/stream_executor/platform/default/dso_loader.cc:64] Could not load dynamic library 'libcudart.so.11.0'; dlerror: libcudart.so.11.0: cannot open shared object file: No such file or directory\r\n",
      "2022-07-19 21:26:17.325380: I tensorflow/stream_executor/cuda/cudart_stub.cc:29] Ignore above cudart dlerror if you do not have a GPU set up on your machine.\r\n"
     ]
    }
   ],
   "source": [
    "!tensorflowjs_converter --input_format keras prediccionidh.h5 modelo_salida"
   ]
  },
  {
   "cell_type": "code",
   "execution_count": null,
   "id": "7ae64d8d",
   "metadata": {},
   "outputs": [],
   "source": [
    "pais_dim.to_csv(\"./producto/pais_dim.csv\")\n",
    "tiempo_dim.to_csv(\"./producto/tiempo_dim.csv\")"
   ]
  }
 ],
 "metadata": {
  "kernelspec": {
   "display_name": "Python 3",
   "language": "python",
   "name": "python3"
  },
  "language_info": {
   "codemirror_mode": {
    "name": "ipython",
    "version": 3
   },
   "file_extension": ".py",
   "mimetype": "text/x-python",
   "name": "python",
   "nbconvert_exporter": "python",
   "pygments_lexer": "ipython3",
   "version": "3.8.8"
  }
 },
 "nbformat": 4,
 "nbformat_minor": 5
}
